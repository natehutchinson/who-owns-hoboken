{
 "cells": [
  {
   "cell_type": "markdown",
   "id": "c0c509ab",
   "metadata": {},
   "source": [
    "# Geocoding raw address data for the Who Owns Hoboken? app"
   ]
  },
  {
   "cell_type": "markdown",
   "id": "7bacce9a",
   "metadata": {},
   "source": [
    "This script utilizes the Nominatim API and geopy to append latitude and longitude to the raw data compiled for the Who Owns Hoboken? app."
   ]
  },
  {
   "cell_type": "code",
   "execution_count": 45,
   "id": "a143043f",
   "metadata": {},
   "outputs": [],
   "source": [
    "## Import libraries\n",
    "import pandas as pd\n",
    "import numpy as np\n",
    "from geopy import Nominatim\n",
    "from geopy.extra.rate_limiter import RateLimiter\n",
    "from pandas_geojson import to_geojson\n",
    "from pandas_geojson import write_geojson\n",
    "pd.options.mode.chained_assignment = None"
   ]
  },
  {
   "cell_type": "code",
   "execution_count": 292,
   "id": "539e3b85",
   "metadata": {},
   "outputs": [
    {
     "data": {
      "text/html": [
       "<div>\n",
       "<style scoped>\n",
       "    .dataframe tbody tr th:only-of-type {\n",
       "        vertical-align: middle;\n",
       "    }\n",
       "\n",
       "    .dataframe tbody tr th {\n",
       "        vertical-align: top;\n",
       "    }\n",
       "\n",
       "    .dataframe thead th {\n",
       "        text-align: right;\n",
       "    }\n",
       "</style>\n",
       "<table border=\"1\" class=\"dataframe\">\n",
       "  <thead>\n",
       "    <tr style=\"text-align: right;\">\n",
       "      <th></th>\n",
       "      <th>Block</th>\n",
       "      <th>Lot</th>\n",
       "      <th>Qual</th>\n",
       "      <th>Class</th>\n",
       "      <th>Property Location</th>\n",
       "      <th>Building name</th>\n",
       "      <th>LLC/Owner</th>\n",
       "      <th>LLC or private individual</th>\n",
       "      <th>Total Units</th>\n",
       "      <th>Company</th>\n",
       "      <th>...</th>\n",
       "      <th>Building Class</th>\n",
       "      <th>Prior Block</th>\n",
       "      <th>Prior Lot</th>\n",
       "      <th>Prior Qual</th>\n",
       "      <th>Updated</th>\n",
       "      <th>Additional Lots</th>\n",
       "      <th>Rent Control</th>\n",
       "      <th>Building Desc</th>\n",
       "      <th>units2</th>\n",
       "      <th>Sale Date</th>\n",
       "    </tr>\n",
       "  </thead>\n",
       "  <tbody>\n",
       "    <tr>\n",
       "      <th>0</th>\n",
       "      <td>75.0</td>\n",
       "      <td>1.0</td>\n",
       "      <td>C004D</td>\n",
       "      <td>2</td>\n",
       "      <td>601 MONROE ST</td>\n",
       "      <td>NaN</td>\n",
       "      <td>OCONNOR, JAMES P JR</td>\n",
       "      <td>Individual</td>\n",
       "      <td>2.0</td>\n",
       "      <td>James O'Connor</td>\n",
       "      <td>...</td>\n",
       "      <td>NaN</td>\n",
       "      <td>NaN</td>\n",
       "      <td>NaN</td>\n",
       "      <td>NaN</td>\n",
       "      <td>NaN</td>\n",
       "      <td>NaN</td>\n",
       "      <td>YES</td>\n",
       "      <td>2BED</td>\n",
       "      <td>1.0</td>\n",
       "      <td>0000-00-00</td>\n",
       "    </tr>\n",
       "    <tr>\n",
       "      <th>1</th>\n",
       "      <td>219.0</td>\n",
       "      <td>8.0</td>\n",
       "      <td>C0002</td>\n",
       "      <td>2</td>\n",
       "      <td>815 WASHINGTON ST</td>\n",
       "      <td>NaN</td>\n",
       "      <td>OCONNOR, JAMES &amp; BERNADETTE</td>\n",
       "      <td>Individual</td>\n",
       "      <td>2.0</td>\n",
       "      <td>James O'Connor</td>\n",
       "      <td>...</td>\n",
       "      <td>NaN</td>\n",
       "      <td>NaN</td>\n",
       "      <td>NaN</td>\n",
       "      <td>NaN</td>\n",
       "      <td>NaN</td>\n",
       "      <td>NaN</td>\n",
       "      <td>YES</td>\n",
       "      <td>2BR</td>\n",
       "      <td>1.0</td>\n",
       "      <td>8/8/11</td>\n",
       "    </tr>\n",
       "    <tr>\n",
       "      <th>2</th>\n",
       "      <td>207.0</td>\n",
       "      <td>25.0</td>\n",
       "      <td>NaN</td>\n",
       "      <td>2</td>\n",
       "      <td>808 WASHINGTON ST</td>\n",
       "      <td>NaN</td>\n",
       "      <td>808 WASHINGTON ST LLC</td>\n",
       "      <td>LLC</td>\n",
       "      <td>4.0</td>\n",
       "      <td>NaN</td>\n",
       "      <td>...</td>\n",
       "      <td>49.0</td>\n",
       "      <td>NaN</td>\n",
       "      <td>NaN</td>\n",
       "      <td>NaN</td>\n",
       "      <td>12/27/19</td>\n",
       "      <td>NaN</td>\n",
       "      <td>YES</td>\n",
       "      <td>4B-4U-H-BA</td>\n",
       "      <td>4.0</td>\n",
       "      <td>8/16/13</td>\n",
       "    </tr>\n",
       "    <tr>\n",
       "      <th>3</th>\n",
       "      <td>180.0</td>\n",
       "      <td>6.0</td>\n",
       "      <td>NaN</td>\n",
       "      <td>2</td>\n",
       "      <td>511 PARK AVE</td>\n",
       "      <td>NaN</td>\n",
       "      <td>RAD, MOHAMMAD TRUSTEE OF JOODI</td>\n",
       "      <td>Trust</td>\n",
       "      <td>2.0</td>\n",
       "      <td>Rad</td>\n",
       "      <td>...</td>\n",
       "      <td>49.0</td>\n",
       "      <td>NaN</td>\n",
       "      <td>NaN</td>\n",
       "      <td>NaN</td>\n",
       "      <td>12/27/19</td>\n",
       "      <td>NaN</td>\n",
       "      <td>YES</td>\n",
       "      <td>3B-2U-FX-H</td>\n",
       "      <td>2.0</td>\n",
       "      <td>5/12/14</td>\n",
       "    </tr>\n",
       "    <tr>\n",
       "      <th>4</th>\n",
       "      <td>88.0</td>\n",
       "      <td>1.0</td>\n",
       "      <td>NaN</td>\n",
       "      <td>4C</td>\n",
       "      <td>800 MADISON/801 MONROE ST</td>\n",
       "      <td>Avalon</td>\n",
       "      <td>DSF IV HOBOKEN OWNER LLC % AVALON B</td>\n",
       "      <td>LLC</td>\n",
       "      <td>220.0</td>\n",
       "      <td>AvalonBay</td>\n",
       "      <td>...</td>\n",
       "      <td>NaN</td>\n",
       "      <td>NaN</td>\n",
       "      <td>NaN</td>\n",
       "      <td>NaN</td>\n",
       "      <td>NaN</td>\n",
       "      <td>NaN</td>\n",
       "      <td>YES</td>\n",
       "      <td>6B-220U-4C-G</td>\n",
       "      <td>220.0</td>\n",
       "      <td>NaN</td>\n",
       "    </tr>\n",
       "  </tbody>\n",
       "</table>\n",
       "<p>5 rows × 24 columns</p>\n",
       "</div>"
      ],
      "text/plain": [
       "   Block   Lot   Qual Class          Property Location Building name  \\\n",
       "0   75.0   1.0  C004D     2              601 MONROE ST           NaN   \n",
       "1  219.0   8.0  C0002     2          815 WASHINGTON ST           NaN   \n",
       "2  207.0  25.0    NaN     2          808 WASHINGTON ST           NaN   \n",
       "3  180.0   6.0    NaN     2               511 PARK AVE           NaN   \n",
       "4   88.0   1.0    NaN    4C  800 MADISON/801 MONROE ST        Avalon   \n",
       "\n",
       "                             LLC/Owner LLC or private individual  Total Units  \\\n",
       "0                  OCONNOR, JAMES P JR                Individual          2.0   \n",
       "1          OCONNOR, JAMES & BERNADETTE                Individual          2.0   \n",
       "2                808 WASHINGTON ST LLC                       LLC          4.0   \n",
       "3       RAD, MOHAMMAD TRUSTEE OF JOODI                     Trust          2.0   \n",
       "4  DSF IV HOBOKEN OWNER LLC % AVALON B                       LLC        220.0   \n",
       "\n",
       "          Company  ... Building Class Prior Block  Prior Lot  Prior Qual  \\\n",
       "0  James O'Connor  ...            NaN         NaN        NaN         NaN   \n",
       "1  James O'Connor  ...            NaN         NaN        NaN         NaN   \n",
       "2             NaN  ...           49.0         NaN        NaN         NaN   \n",
       "3             Rad  ...           49.0         NaN        NaN         NaN   \n",
       "4       AvalonBay  ...            NaN         NaN        NaN         NaN   \n",
       "\n",
       "    Updated  Additional Lots Rent Control Building Desc units2   Sale Date  \n",
       "0       NaN              NaN          YES          2BED    1.0  0000-00-00  \n",
       "1       NaN              NaN          YES           2BR    1.0      8/8/11  \n",
       "2  12/27/19              NaN          YES    4B-4U-H-BA    4.0     8/16/13  \n",
       "3  12/27/19              NaN          YES    3B-2U-FX-H    2.0     5/12/14  \n",
       "4       NaN              NaN          YES  6B-220U-4C-G  220.0         NaN  \n",
       "\n",
       "[5 rows x 24 columns]"
      ]
     },
     "execution_count": 292,
     "metadata": {},
     "output_type": "execute_result"
    }
   ],
   "source": [
    "## Read data\n",
    "data = pd.read_csv('./raw_data.csv')\n",
    "data.head()"
   ]
  },
  {
   "cell_type": "code",
   "execution_count": 74,
   "id": "3c941660",
   "metadata": {},
   "outputs": [],
   "source": [
    "data.columns = data.columns.map(lambda x : x.replace('.', '').replace(' ', '_').replace('/','_').replace(\"'\", '')) \n",
    "data.columns = data.columns.str.lower()"
   ]
  },
  {
   "cell_type": "code",
   "execution_count": 75,
   "id": "bf6bbfb9",
   "metadata": {},
   "outputs": [
    {
     "name": "stdout",
     "output_type": "stream",
     "text": [
      "<class 'pandas.core.frame.DataFrame'>\n",
      "RangeIndex: 2773 entries, 0 to 2772\n",
      "Data columns (total 21 columns):\n",
      " #   Column                     Non-Null Count  Dtype  \n",
      "---  ------                     --------------  -----  \n",
      " 0   block                      2773 non-null   float64\n",
      " 1   lot                        2773 non-null   float64\n",
      " 2   qual                       1067 non-null   object \n",
      " 3   property_location          2773 non-null   object \n",
      " 4   building_name              60 non-null     object \n",
      " 5   llc_owner                  2773 non-null   object \n",
      " 6   llc_or_private_individual  2773 non-null   object \n",
      " 7   total_units                2772 non-null   float64\n",
      " 8   company                    1012 non-null   object \n",
      " 9   owners_mailing_address     2773 non-null   object \n",
      " 10  city_state_zip             2773 non-null   object \n",
      " 11  sq_ft                      2411 non-null   float64\n",
      " 12  yr_built                   2020 non-null   float64\n",
      " 13  rent_control               2773 non-null   object \n",
      " 14  building_desc              2640 non-null   object \n",
      " 15  units2                     2764 non-null   float64\n",
      " 16  sale_date                  2451 non-null   object \n",
      " 17  clean_address              2773 non-null   object \n",
      " 18  latitude                   2773 non-null   float64\n",
      " 19  longitude                  2773 non-null   float64\n",
      " 20  rent_control_year          2020 non-null   float64\n",
      "dtypes: float64(9), object(12)\n",
      "memory usage: 455.1+ KB\n"
     ]
    }
   ],
   "source": [
    "data.info()"
   ]
  },
  {
   "cell_type": "code",
   "execution_count": 294,
   "id": "d8eb8feb",
   "metadata": {},
   "outputs": [],
   "source": [
    "## Make address all uppercase\n",
    "data['Property Location'] = data['Property Location'].str.upper()"
   ]
  },
  {
   "cell_type": "code",
   "execution_count": 295,
   "id": "4174b717",
   "metadata": {},
   "outputs": [],
   "source": [
    "## Clean up street names so geocoder can recognize them \n",
    "data['Property Location'] = data['Property Location'].str.replace('FIRST', '1ST')\n",
    "data['Property Location'] = data['Property Location'].str.replace('SECOND', '2ND')\n",
    "data['Property Location'] = data['Property Location'].str.replace('THIRD', '3RD')\n",
    "data['Property Location'] = data['Property Location'].str.replace('FOURTH ', '4TH ')\n",
    "data['Property Location'] = data['Property Location'].str.replace('FIFTH', '5TH')\n",
    "data['Property Location'] = data['Property Location'].str.replace('SIXTH', '6TH')\n",
    "data['Property Location'] = data['Property Location'].str.replace('SEVENTH', '7TH')\n",
    "data['Property Location'] = data['Property Location'].str.replace('EIGHTH', '8TH')\n",
    "data['Property Location'] = data['Property Location'].str.replace('EIGHT ', '8TH ')\n",
    "data['Property Location'] = data['Property Location'].str.replace('NINTH', '9TH')\n",
    "data['Property Location'] = data['Property Location'].str.replace('TENTH', '10TH')\n",
    "data['Property Location'] = data['Property Location'].str.replace('ELEVENTH', '11TH')\n",
    "data['Property Location'] = data['Property Location'].str.replace('TWELFTH', '12TH')\n",
    "data['Property Location'] = data['Property Location'].str.replace('THIRTEENTH', '13TH')\n",
    "data['Property Location'] = data['Property Location'].str.replace('FOURTEENTH', '14TH')\n",
    "data['Property Location'] = data['Property Location'].str.replace('FIFTEENTH', '15TH')\n",
    "data['Property Location'] = data['Property Location'].str.replace('WASH ', 'WASHINGTON')\n",
    "data['Property Location'] = data['Property Location'].str.replace('WASHINGTONST ', 'WASHINGTON ST')\n",
    "data['Property Location'] = data['Property Location'].str.replace('0BSERVER ', 'OBSERVER')\n",
    "data['Property Location'] = data['Property Location'].str.replace('OBSERVERHWY ', 'OBSERVER HWY')\n",
    "data['Property Location'] = data['Property Location'].str.replace('OBSERVERHWY', 'OBSERVER HWY')\n",
    "data['Property Location'] = data['Property Location'].str.replace('THS T ', 'TH ST')\n",
    "data['Property Location'] = data['Property Location'].str.replace('ST REAR', 'ST')\n",
    "data['Property Location'] = data['Property Location'].str.replace('BLOOM ', 'BLOOMFIELD')\n",
    "data['Property Location'] = data['Property Location'].str.replace('THS T', 'TH ST')\n",
    "data['Property Location'] = data['Property Location'].str.replace(' AT', ' ST')\n",
    "data['Property Location'] = data['Property Location'].str.replace('WASHINGTONST', 'WASHINGTON ST')\n",
    "data['Property Location'] = data['Property Location'].str.replace('ST230', 'ST')"
   ]
  },
  {
   "cell_type": "code",
   "execution_count": 296,
   "id": "3092efe2",
   "metadata": {},
   "outputs": [],
   "source": [
    "## Clean up addresses with notes in them\n",
    "sep = '('\n",
    "data['Property Location'] = data['Property Location'].str.split(sep).str[0]"
   ]
  },
  {
   "cell_type": "code",
   "execution_count": 297,
   "id": "db23af79",
   "metadata": {},
   "outputs": [],
   "source": [
    "## Clean up addresses with two locations combined\n",
    "sep = '/'\n",
    "data['clean_address'] = data['Property Location'].str.split(sep).str[0]"
   ]
  },
  {
   "cell_type": "code",
   "execution_count": 298,
   "id": "7aa1d6b3",
   "metadata": {},
   "outputs": [],
   "source": [
    "## Clean up addresses named with intersection\n",
    "sep = '&'\n",
    "data['clean_address'] = data['clean_address'].str.split(sep).str[0]"
   ]
  },
  {
   "cell_type": "code",
   "execution_count": 299,
   "id": "ab9efed8",
   "metadata": {},
   "outputs": [
    {
     "data": {
      "text/html": [
       "<div>\n",
       "<style scoped>\n",
       "    .dataframe tbody tr th:only-of-type {\n",
       "        vertical-align: middle;\n",
       "    }\n",
       "\n",
       "    .dataframe tbody tr th {\n",
       "        vertical-align: top;\n",
       "    }\n",
       "\n",
       "    .dataframe thead th {\n",
       "        text-align: right;\n",
       "    }\n",
       "</style>\n",
       "<table border=\"1\" class=\"dataframe\">\n",
       "  <thead>\n",
       "    <tr style=\"text-align: right;\">\n",
       "      <th></th>\n",
       "      <th>Block</th>\n",
       "      <th>Lot</th>\n",
       "      <th>Qual</th>\n",
       "      <th>Class</th>\n",
       "      <th>Property Location</th>\n",
       "      <th>Building name</th>\n",
       "      <th>LLC/Owner</th>\n",
       "      <th>LLC or private individual</th>\n",
       "      <th>Total Units</th>\n",
       "      <th>Company</th>\n",
       "      <th>...</th>\n",
       "      <th>Prior Lot</th>\n",
       "      <th>Prior Qual</th>\n",
       "      <th>Updated</th>\n",
       "      <th>Additional Lots</th>\n",
       "      <th>Rent Control</th>\n",
       "      <th>Building Desc</th>\n",
       "      <th>units2</th>\n",
       "      <th>Sale Date</th>\n",
       "      <th>clean_address</th>\n",
       "      <th>search_address</th>\n",
       "    </tr>\n",
       "  </thead>\n",
       "  <tbody>\n",
       "    <tr>\n",
       "      <th>0</th>\n",
       "      <td>75.0</td>\n",
       "      <td>1.0</td>\n",
       "      <td>C004D</td>\n",
       "      <td>2</td>\n",
       "      <td>601 MONROE ST</td>\n",
       "      <td>NaN</td>\n",
       "      <td>OCONNOR, JAMES P JR</td>\n",
       "      <td>Individual</td>\n",
       "      <td>2.0</td>\n",
       "      <td>James O'Connor</td>\n",
       "      <td>...</td>\n",
       "      <td>NaN</td>\n",
       "      <td>NaN</td>\n",
       "      <td>NaN</td>\n",
       "      <td>NaN</td>\n",
       "      <td>YES</td>\n",
       "      <td>2BED</td>\n",
       "      <td>1.0</td>\n",
       "      <td>0000-00-00</td>\n",
       "      <td>601 MONROE ST</td>\n",
       "      <td>601 MONROE ST, Hoboken, NJ, 07030</td>\n",
       "    </tr>\n",
       "    <tr>\n",
       "      <th>1</th>\n",
       "      <td>219.0</td>\n",
       "      <td>8.0</td>\n",
       "      <td>C0002</td>\n",
       "      <td>2</td>\n",
       "      <td>815 WASHINGTON ST</td>\n",
       "      <td>NaN</td>\n",
       "      <td>OCONNOR, JAMES &amp; BERNADETTE</td>\n",
       "      <td>Individual</td>\n",
       "      <td>2.0</td>\n",
       "      <td>James O'Connor</td>\n",
       "      <td>...</td>\n",
       "      <td>NaN</td>\n",
       "      <td>NaN</td>\n",
       "      <td>NaN</td>\n",
       "      <td>NaN</td>\n",
       "      <td>YES</td>\n",
       "      <td>2BR</td>\n",
       "      <td>1.0</td>\n",
       "      <td>8/8/11</td>\n",
       "      <td>815 WASHINGTON ST</td>\n",
       "      <td>815 WASHINGTON ST, Hoboken, NJ, 07030</td>\n",
       "    </tr>\n",
       "    <tr>\n",
       "      <th>2</th>\n",
       "      <td>207.0</td>\n",
       "      <td>25.0</td>\n",
       "      <td>NaN</td>\n",
       "      <td>2</td>\n",
       "      <td>808 WASHINGTON ST</td>\n",
       "      <td>NaN</td>\n",
       "      <td>808 WASHINGTON ST LLC</td>\n",
       "      <td>LLC</td>\n",
       "      <td>4.0</td>\n",
       "      <td>NaN</td>\n",
       "      <td>...</td>\n",
       "      <td>NaN</td>\n",
       "      <td>NaN</td>\n",
       "      <td>12/27/19</td>\n",
       "      <td>NaN</td>\n",
       "      <td>YES</td>\n",
       "      <td>4B-4U-H-BA</td>\n",
       "      <td>4.0</td>\n",
       "      <td>8/16/13</td>\n",
       "      <td>808 WASHINGTON ST</td>\n",
       "      <td>808 WASHINGTON ST, Hoboken, NJ, 07030</td>\n",
       "    </tr>\n",
       "    <tr>\n",
       "      <th>3</th>\n",
       "      <td>180.0</td>\n",
       "      <td>6.0</td>\n",
       "      <td>NaN</td>\n",
       "      <td>2</td>\n",
       "      <td>511 PARK AVE</td>\n",
       "      <td>NaN</td>\n",
       "      <td>RAD, MOHAMMAD TRUSTEE OF JOODI</td>\n",
       "      <td>Trust</td>\n",
       "      <td>2.0</td>\n",
       "      <td>Rad</td>\n",
       "      <td>...</td>\n",
       "      <td>NaN</td>\n",
       "      <td>NaN</td>\n",
       "      <td>12/27/19</td>\n",
       "      <td>NaN</td>\n",
       "      <td>YES</td>\n",
       "      <td>3B-2U-FX-H</td>\n",
       "      <td>2.0</td>\n",
       "      <td>5/12/14</td>\n",
       "      <td>511 PARK AVE</td>\n",
       "      <td>511 PARK AVE, Hoboken, NJ, 07030</td>\n",
       "    </tr>\n",
       "    <tr>\n",
       "      <th>4</th>\n",
       "      <td>88.0</td>\n",
       "      <td>1.0</td>\n",
       "      <td>NaN</td>\n",
       "      <td>4C</td>\n",
       "      <td>800 MADISON/801 MONROE ST</td>\n",
       "      <td>Avalon</td>\n",
       "      <td>DSF IV HOBOKEN OWNER LLC % AVALON B</td>\n",
       "      <td>LLC</td>\n",
       "      <td>220.0</td>\n",
       "      <td>AvalonBay</td>\n",
       "      <td>...</td>\n",
       "      <td>NaN</td>\n",
       "      <td>NaN</td>\n",
       "      <td>NaN</td>\n",
       "      <td>NaN</td>\n",
       "      <td>YES</td>\n",
       "      <td>6B-220U-4C-G</td>\n",
       "      <td>220.0</td>\n",
       "      <td>NaN</td>\n",
       "      <td>800 MADISON</td>\n",
       "      <td>800 MADISON, Hoboken, NJ, 07030</td>\n",
       "    </tr>\n",
       "  </tbody>\n",
       "</table>\n",
       "<p>5 rows × 26 columns</p>\n",
       "</div>"
      ],
      "text/plain": [
       "   Block   Lot   Qual Class          Property Location Building name  \\\n",
       "0   75.0   1.0  C004D     2              601 MONROE ST           NaN   \n",
       "1  219.0   8.0  C0002     2          815 WASHINGTON ST           NaN   \n",
       "2  207.0  25.0    NaN     2          808 WASHINGTON ST           NaN   \n",
       "3  180.0   6.0    NaN     2               511 PARK AVE           NaN   \n",
       "4   88.0   1.0    NaN    4C  800 MADISON/801 MONROE ST        Avalon   \n",
       "\n",
       "                             LLC/Owner LLC or private individual  Total Units  \\\n",
       "0                  OCONNOR, JAMES P JR                Individual          2.0   \n",
       "1          OCONNOR, JAMES & BERNADETTE                Individual          2.0   \n",
       "2                808 WASHINGTON ST LLC                       LLC          4.0   \n",
       "3       RAD, MOHAMMAD TRUSTEE OF JOODI                     Trust          2.0   \n",
       "4  DSF IV HOBOKEN OWNER LLC % AVALON B                       LLC        220.0   \n",
       "\n",
       "          Company  ... Prior Lot Prior Qual   Updated  Additional Lots  \\\n",
       "0  James O'Connor  ...       NaN        NaN       NaN              NaN   \n",
       "1  James O'Connor  ...       NaN        NaN       NaN              NaN   \n",
       "2             NaN  ...       NaN        NaN  12/27/19              NaN   \n",
       "3             Rad  ...       NaN        NaN  12/27/19              NaN   \n",
       "4       AvalonBay  ...       NaN        NaN       NaN              NaN   \n",
       "\n",
       "   Rent Control  Building Desc units2   Sale Date      clean_address  \\\n",
       "0           YES           2BED    1.0  0000-00-00      601 MONROE ST   \n",
       "1           YES            2BR    1.0      8/8/11  815 WASHINGTON ST   \n",
       "2           YES     4B-4U-H-BA    4.0     8/16/13  808 WASHINGTON ST   \n",
       "3           YES     3B-2U-FX-H    2.0     5/12/14       511 PARK AVE   \n",
       "4           YES   6B-220U-4C-G  220.0         NaN        800 MADISON   \n",
       "\n",
       "                          search_address  \n",
       "0      601 MONROE ST, Hoboken, NJ, 07030  \n",
       "1  815 WASHINGTON ST, Hoboken, NJ, 07030  \n",
       "2  808 WASHINGTON ST, Hoboken, NJ, 07030  \n",
       "3       511 PARK AVE, Hoboken, NJ, 07030  \n",
       "4        800 MADISON, Hoboken, NJ, 07030  \n",
       "\n",
       "[5 rows x 26 columns]"
      ]
     },
     "execution_count": 299,
     "metadata": {},
     "output_type": "execute_result"
    }
   ],
   "source": [
    "## Create column to be used for address lookup in Nominatim API\n",
    "data['search_address'] = data['clean_address'] + ', Hoboken, NJ, 07030'\n",
    "data.head()"
   ]
  },
  {
   "cell_type": "code",
   "execution_count": 300,
   "id": "4e60d006",
   "metadata": {},
   "outputs": [],
   "source": [
    "## Define Nominatim API instance\n",
    "locator = Nominatim(user_agent='who_owns_hoboken')"
   ]
  },
  {
   "cell_type": "code",
   "execution_count": 301,
   "id": "cd70a9f7",
   "metadata": {},
   "outputs": [
    {
     "name": "stderr",
     "output_type": "stream",
     "text": [
      "RateLimiter caught an error, retrying (0/2 tries). Called with (*('910 WASHINGTON ST, Hoboken, NJ, 07030',), **{}).\n",
      "Traceback (most recent call last):\n",
      "  File \"/Users/natehutchinson/opt/anaconda3/lib/python3.9/site-packages/urllib3/connection.py\", line 174, in _new_conn\n",
      "    conn = connection.create_connection(\n",
      "  File \"/Users/natehutchinson/opt/anaconda3/lib/python3.9/site-packages/urllib3/util/connection.py\", line 72, in create_connection\n",
      "    for res in socket.getaddrinfo(host, port, family, socket.SOCK_STREAM):\n",
      "  File \"/Users/natehutchinson/opt/anaconda3/lib/python3.9/socket.py\", line 954, in getaddrinfo\n",
      "    for res in _socket.getaddrinfo(host, port, family, type, proto, flags):\n",
      "socket.gaierror: [Errno 8] nodename nor servname provided, or not known\n",
      "\n",
      "During handling of the above exception, another exception occurred:\n",
      "\n",
      "Traceback (most recent call last):\n",
      "  File \"/Users/natehutchinson/opt/anaconda3/lib/python3.9/site-packages/urllib3/connectionpool.py\", line 703, in urlopen\n",
      "    httplib_response = self._make_request(\n",
      "  File \"/Users/natehutchinson/opt/anaconda3/lib/python3.9/site-packages/urllib3/connectionpool.py\", line 386, in _make_request\n",
      "    self._validate_conn(conn)\n",
      "  File \"/Users/natehutchinson/opt/anaconda3/lib/python3.9/site-packages/urllib3/connectionpool.py\", line 1040, in _validate_conn\n",
      "    conn.connect()\n",
      "  File \"/Users/natehutchinson/opt/anaconda3/lib/python3.9/site-packages/urllib3/connection.py\", line 358, in connect\n",
      "    self.sock = conn = self._new_conn()\n",
      "  File \"/Users/natehutchinson/opt/anaconda3/lib/python3.9/site-packages/urllib3/connection.py\", line 186, in _new_conn\n",
      "    raise NewConnectionError(\n",
      "urllib3.exceptions.NewConnectionError: <urllib3.connection.HTTPSConnection object at 0x7fed7315d280>: Failed to establish a new connection: [Errno 8] nodename nor servname provided, or not known\n",
      "\n",
      "During handling of the above exception, another exception occurred:\n",
      "\n",
      "Traceback (most recent call last):\n",
      "  File \"/Users/natehutchinson/opt/anaconda3/lib/python3.9/site-packages/requests/adapters.py\", line 489, in send\n",
      "    resp = conn.urlopen(\n",
      "  File \"/Users/natehutchinson/opt/anaconda3/lib/python3.9/site-packages/urllib3/connectionpool.py\", line 813, in urlopen\n",
      "    return self.urlopen(\n",
      "  File \"/Users/natehutchinson/opt/anaconda3/lib/python3.9/site-packages/urllib3/connectionpool.py\", line 813, in urlopen\n",
      "    return self.urlopen(\n",
      "  File \"/Users/natehutchinson/opt/anaconda3/lib/python3.9/site-packages/urllib3/connectionpool.py\", line 785, in urlopen\n",
      "    retries = retries.increment(\n",
      "  File \"/Users/natehutchinson/opt/anaconda3/lib/python3.9/site-packages/urllib3/util/retry.py\", line 592, in increment\n",
      "    raise MaxRetryError(_pool, url, error or ResponseError(cause))\n",
      "urllib3.exceptions.MaxRetryError: HTTPSConnectionPool(host='nominatim.openstreetmap.org', port=443): Max retries exceeded with url: /search?q=910+WASHINGTON+ST%2C+Hoboken%2C+NJ%2C+07030&format=json&limit=1 (Caused by NewConnectionError('<urllib3.connection.HTTPSConnection object at 0x7fed7315d280>: Failed to establish a new connection: [Errno 8] nodename nor servname provided, or not known'))\n",
      "\n",
      "During handling of the above exception, another exception occurred:\n",
      "\n",
      "Traceback (most recent call last):\n",
      "  File \"/Users/natehutchinson/opt/anaconda3/lib/python3.9/site-packages/geopy/adapters.py\", line 457, in _request\n",
      "    resp = self.session.get(url, timeout=timeout, headers=headers)\n",
      "  File \"/Users/natehutchinson/opt/anaconda3/lib/python3.9/site-packages/requests/sessions.py\", line 600, in get\n",
      "    return self.request(\"GET\", url, **kwargs)\n",
      "  File \"/Users/natehutchinson/opt/anaconda3/lib/python3.9/site-packages/requests/sessions.py\", line 587, in request\n",
      "    resp = self.send(prep, **send_kwargs)\n",
      "  File \"/Users/natehutchinson/opt/anaconda3/lib/python3.9/site-packages/requests/sessions.py\", line 701, in send\n",
      "    r = adapter.send(request, **kwargs)\n",
      "  File \"/Users/natehutchinson/opt/anaconda3/lib/python3.9/site-packages/requests/adapters.py\", line 565, in send\n",
      "    raise ConnectionError(e, request=request)\n",
      "requests.exceptions.ConnectionError: HTTPSConnectionPool(host='nominatim.openstreetmap.org', port=443): Max retries exceeded with url: /search?q=910+WASHINGTON+ST%2C+Hoboken%2C+NJ%2C+07030&format=json&limit=1 (Caused by NewConnectionError('<urllib3.connection.HTTPSConnection object at 0x7fed7315d280>: Failed to establish a new connection: [Errno 8] nodename nor servname provided, or not known'))\n",
      "\n",
      "During handling of the above exception, another exception occurred:\n",
      "\n",
      "Traceback (most recent call last):\n",
      "  File \"/Users/natehutchinson/opt/anaconda3/lib/python3.9/site-packages/geopy/extra/rate_limiter.py\", line 136, in _retries_gen\n",
      "    yield i  # Run the function.\n",
      "  File \"/Users/natehutchinson/opt/anaconda3/lib/python3.9/site-packages/geopy/extra/rate_limiter.py\", line 274, in __call__\n",
      "    res = self.func(*args, **kwargs)\n",
      "  File \"/Users/natehutchinson/opt/anaconda3/lib/python3.9/site-packages/geopy/geocoders/nominatim.py\", line 297, in geocode\n",
      "    return self._call_geocoder(url, callback, timeout=timeout)\n",
      "  File \"/Users/natehutchinson/opt/anaconda3/lib/python3.9/site-packages/geopy/geocoders/base.py\", line 368, in _call_geocoder\n",
      "    result = self.adapter.get_json(url, timeout=timeout, headers=req_headers)\n",
      "  File \"/Users/natehutchinson/opt/anaconda3/lib/python3.9/site-packages/geopy/adapters.py\", line 447, in get_json\n",
      "    resp = self._request(url, timeout=timeout, headers=headers)\n",
      "  File \"/Users/natehutchinson/opt/anaconda3/lib/python3.9/site-packages/geopy/adapters.py\", line 469, in _request\n",
      "    raise GeocoderUnavailable(message)\n",
      "geopy.exc.GeocoderUnavailable: HTTPSConnectionPool(host='nominatim.openstreetmap.org', port=443): Max retries exceeded with url: /search?q=910+WASHINGTON+ST%2C+Hoboken%2C+NJ%2C+07030&format=json&limit=1 (Caused by NewConnectionError('<urllib3.connection.HTTPSConnection object at 0x7fed7315d280>: Failed to establish a new connection: [Errno 8] nodename nor servname provided, or not known'))\n"
     ]
    }
   ],
   "source": [
    "## Call API for each row of dataset\n",
    "## Store output from API call in 'location column'\n",
    "geocode = RateLimiter(locator.geocode, min_delay_seconds=1)\n",
    "data['location'] = data['search_address'].apply(geocode)"
   ]
  },
  {
   "cell_type": "code",
   "execution_count": 302,
   "id": "2678f7c0",
   "metadata": {},
   "outputs": [],
   "source": [
    "## Extract lat/long information from API output\n",
    "data['point'] = data['location'].apply(lambda loc: tuple(loc.point) if loc else None)"
   ]
  },
  {
   "cell_type": "code",
   "execution_count": 303,
   "id": "d860fca7",
   "metadata": {},
   "outputs": [],
   "source": [
    "## Turn lat/long information into new columns in the dataset\n",
    "data[['latitude', 'longitude', 'altitude']] = pd.DataFrame(data['point'].tolist(), index=data.index)"
   ]
  },
  {
   "cell_type": "code",
   "execution_count": 304,
   "id": "3ab274eb",
   "metadata": {},
   "outputs": [
    {
     "data": {
      "text/plain": [
       "latitude\n",
       "40.750362    59\n",
       "40.749529    40\n",
       "40.752481    34\n",
       "40.746050    31\n",
       "40.752710    25\n",
       "             ..\n",
       "40.742083     1\n",
       "40.742080     1\n",
       "40.742043     1\n",
       "40.742034     1\n",
       "40.754934     1\n",
       "Length: 2064, dtype: int64"
      ]
     },
     "execution_count": 304,
     "metadata": {},
     "output_type": "execute_result"
    }
   ],
   "source": [
    "data.groupby('latitude').size().sort_values(ascending = False)"
   ]
  },
  {
   "cell_type": "code",
   "execution_count": 77,
   "id": "7f2f1e87",
   "metadata": {},
   "outputs": [
    {
     "data": {
      "text/plain": [
       "array([], dtype=object)"
      ]
     },
     "execution_count": 77,
     "metadata": {},
     "output_type": "execute_result"
    }
   ],
   "source": [
    "## Manually geocode these addresses\n",
    "data[data['latitude'].isnull()]['property_location'].unique()"
   ]
  },
  {
   "cell_type": "code",
   "execution_count": 316,
   "id": "5319c76c",
   "metadata": {},
   "outputs": [],
   "source": [
    "# 2 Constitution Court\n",
    "data.loc[data['Property Location'] == '2 CONSTITUTION COURT', 'latitude'] = 40.75235433173578\n",
    "data.loc[data['Property Location'] == '2 CONSTITUTION COURT', 'longitude'] = -74.02416413263948\n",
    "# 1 Independence Court\n",
    "data.loc[data['Property Location'] == '1 INDEPENDENCE COURT', 'latitude'] = 40.7517113622344\n",
    "data.loc[data['Property Location'] == '1 INDEPENDENCE COURT', 'longitude'] = -74.0243229423285\n",
    "# '1200-1222 HUDSON ST'\n",
    "data.loc[data['Property Location'] == '1200-1222 HUDSON ST', 'latitude'] = 40.751547793135835\n",
    "data.loc[data['Property Location'] == '1200-1222 HUDSON ST', 'longitude'] = -74.02566382893585\n",
    "# '1201-1333 HUDSON ST'\n",
    "data.loc[data['Property Location'] == '1201-1333 HUDSON ST', 'latitude'] = 40.751327435663356\n",
    "data.loc[data['Property Location'] == '1201-1333 HUDSON ST', 'longitude'] = -74.02529360594718\n",
    "# '1201-21R WASHINGTON ST'\n",
    "data.loc[data['Property Location'] == '1201-21R WASHINGTON ST', 'latitude'] = 40.75167892656019\n",
    "data.loc[data['Property Location'] == '1201-21R WASHINGTON ST', 'longitude'] = -74.02620949828147\n",
    "# '224-232 RIVER 235 HUDSON'\n",
    "data.loc[data['Property Location'] == '224-232 RIVER 235 HUDSON', 'latitude'] = 40.7394286430441\n",
    "data.loc[data['Property Location'] == '224-232 RIVER 235 HUDSON', 'longitude'] = -74.0286408719967\n",
    "# '401-03 WASHINGTON ST'\n",
    "data.loc[data['Property Location'] == '401-03 WASHINGTON ST', 'latitude'] = 40.74134653174973\n",
    "data.loc[data['Property Location'] == '401-03 WASHINGTON ST', 'longitude'] = -74.02950291302936\n",
    "# '300-08 RIVER ST'\n",
    "data.loc[data['Property Location'] == '300-08 RIVER ST', 'latitude'] = 40.74002433251577\n",
    "data.loc[data['Property Location'] == '300-08 RIVER ST', 'longitude'] = -74.02844601055078\n",
    "# '11 ELYSIAN PLACE'\n",
    "data.loc[data['Property Location'] == '11 ELYSIAN PLACE', 'latitude'] = 40.747902005692055\n",
    "data.loc[data['Property Location'] == '11 ELYSIAN PLACE', 'longitude'] = -74.0248531253788"
   ]
  },
  {
   "cell_type": "code",
   "execution_count": 78,
   "id": "24fe39ea",
   "metadata": {},
   "outputs": [],
   "source": [
    "## add column for what year the building falls under rent control\n",
    "data.loc[data['yr_built'] == 0, 'yr_built'] = np.nan\n",
    "data['yr_built'] = data['yr_built'].astype('Int64')\n",
    "data['rent_control_year'] = data['yr_built'] + 30"
   ]
  },
  {
   "cell_type": "code",
   "execution_count": 79,
   "id": "907655a1",
   "metadata": {},
   "outputs": [],
   "source": [
    "## convert units columns to integers\n",
    "data['total_units'] = data['total_units'].astype('Int64')\n",
    "data['units2'] = data['units2'].astype('Int64')"
   ]
  },
  {
   "cell_type": "code",
   "execution_count": 381,
   "id": "733476c9",
   "metadata": {},
   "outputs": [],
   "source": [
    "## save to csv before splitting into condo/non-condo\n",
    "data.to_csv('./data/hoboken_landlords.csv')"
   ]
  },
  {
   "cell_type": "code",
   "execution_count": 65,
   "id": "18427b1a",
   "metadata": {},
   "outputs": [],
   "source": [
    "#with open('./data/hoboken_landlords.csv') as x:\n",
    "    #ncols = len(x.readline().split(','))\n",
    "\n",
    "#data = pd.read_csv('./data/hoboken_landlords.csv', usecols=range(1,ncols))"
   ]
  },
  {
   "cell_type": "code",
   "execution_count": 5,
   "id": "40fb4d5e",
   "metadata": {},
   "outputs": [
    {
     "ename": "KeyError",
     "evalue": "\"['Class', 'Building Class', 'Prior Block', 'Prior Lot', 'Prior Qual', 'Updated', 'Additional Lots', 'search_address', 'location', 'point', 'altitude'] not found in axis\"",
     "output_type": "error",
     "traceback": [
      "\u001b[0;31m---------------------------------------------------------------------------\u001b[0m",
      "\u001b[0;31mKeyError\u001b[0m                                  Traceback (most recent call last)",
      "Input \u001b[0;32mIn [5]\u001b[0m, in \u001b[0;36m<cell line: 4>\u001b[0;34m()\u001b[0m\n\u001b[1;32m      1\u001b[0m \u001b[38;5;66;03m## drop unneccesary columns\u001b[39;00m\n\u001b[1;32m      2\u001b[0m drop_cols \u001b[38;5;241m=\u001b[39m [\u001b[38;5;124m'\u001b[39m\u001b[38;5;124mClass\u001b[39m\u001b[38;5;124m'\u001b[39m, \u001b[38;5;124m'\u001b[39m\u001b[38;5;124mBuilding Class\u001b[39m\u001b[38;5;124m'\u001b[39m, \u001b[38;5;124m'\u001b[39m\u001b[38;5;124mPrior Block\u001b[39m\u001b[38;5;124m'\u001b[39m, \u001b[38;5;124m'\u001b[39m\u001b[38;5;124mPrior Lot\u001b[39m\u001b[38;5;124m'\u001b[39m, \u001b[38;5;124m'\u001b[39m\u001b[38;5;124mPrior Qual\u001b[39m\u001b[38;5;124m'\u001b[39m, \u001b[38;5;124m'\u001b[39m\u001b[38;5;124mUpdated\u001b[39m\u001b[38;5;124m'\u001b[39m,\n\u001b[1;32m      3\u001b[0m        \u001b[38;5;124m'\u001b[39m\u001b[38;5;124mAdditional Lots\u001b[39m\u001b[38;5;124m'\u001b[39m, \u001b[38;5;124m'\u001b[39m\u001b[38;5;124msearch_address\u001b[39m\u001b[38;5;124m'\u001b[39m, \u001b[38;5;124m'\u001b[39m\u001b[38;5;124mlocation\u001b[39m\u001b[38;5;124m'\u001b[39m, \u001b[38;5;124m'\u001b[39m\u001b[38;5;124mpoint\u001b[39m\u001b[38;5;124m'\u001b[39m, \u001b[38;5;124m'\u001b[39m\u001b[38;5;124maltitude\u001b[39m\u001b[38;5;124m'\u001b[39m]\n\u001b[0;32m----> 4\u001b[0m data \u001b[38;5;241m=\u001b[39m \u001b[43mdata\u001b[49m\u001b[38;5;241;43m.\u001b[39;49m\u001b[43mdrop\u001b[49m\u001b[43m(\u001b[49m\u001b[43mdrop_cols\u001b[49m\u001b[43m,\u001b[49m\u001b[43m \u001b[49m\u001b[43maxis\u001b[49m\u001b[43m \u001b[49m\u001b[38;5;241;43m=\u001b[39;49m\u001b[43m \u001b[49m\u001b[38;5;241;43m1\u001b[39;49m\u001b[43m)\u001b[49m\n",
      "File \u001b[0;32m~/opt/anaconda3/lib/python3.9/site-packages/pandas/util/_decorators.py:311\u001b[0m, in \u001b[0;36mdeprecate_nonkeyword_arguments.<locals>.decorate.<locals>.wrapper\u001b[0;34m(*args, **kwargs)\u001b[0m\n\u001b[1;32m    305\u001b[0m \u001b[38;5;28;01mif\u001b[39;00m \u001b[38;5;28mlen\u001b[39m(args) \u001b[38;5;241m>\u001b[39m num_allow_args:\n\u001b[1;32m    306\u001b[0m     warnings\u001b[38;5;241m.\u001b[39mwarn(\n\u001b[1;32m    307\u001b[0m         msg\u001b[38;5;241m.\u001b[39mformat(arguments\u001b[38;5;241m=\u001b[39marguments),\n\u001b[1;32m    308\u001b[0m         \u001b[38;5;167;01mFutureWarning\u001b[39;00m,\n\u001b[1;32m    309\u001b[0m         stacklevel\u001b[38;5;241m=\u001b[39mstacklevel,\n\u001b[1;32m    310\u001b[0m     )\n\u001b[0;32m--> 311\u001b[0m \u001b[38;5;28;01mreturn\u001b[39;00m \u001b[43mfunc\u001b[49m\u001b[43m(\u001b[49m\u001b[38;5;241;43m*\u001b[39;49m\u001b[43margs\u001b[49m\u001b[43m,\u001b[49m\u001b[43m \u001b[49m\u001b[38;5;241;43m*\u001b[39;49m\u001b[38;5;241;43m*\u001b[39;49m\u001b[43mkwargs\u001b[49m\u001b[43m)\u001b[49m\n",
      "File \u001b[0;32m~/opt/anaconda3/lib/python3.9/site-packages/pandas/core/frame.py:4954\u001b[0m, in \u001b[0;36mDataFrame.drop\u001b[0;34m(self, labels, axis, index, columns, level, inplace, errors)\u001b[0m\n\u001b[1;32m   4806\u001b[0m \u001b[38;5;129m@deprecate_nonkeyword_arguments\u001b[39m(version\u001b[38;5;241m=\u001b[39m\u001b[38;5;28;01mNone\u001b[39;00m, allowed_args\u001b[38;5;241m=\u001b[39m[\u001b[38;5;124m\"\u001b[39m\u001b[38;5;124mself\u001b[39m\u001b[38;5;124m\"\u001b[39m, \u001b[38;5;124m\"\u001b[39m\u001b[38;5;124mlabels\u001b[39m\u001b[38;5;124m\"\u001b[39m])\n\u001b[1;32m   4807\u001b[0m \u001b[38;5;28;01mdef\u001b[39;00m \u001b[38;5;21mdrop\u001b[39m(\n\u001b[1;32m   4808\u001b[0m     \u001b[38;5;28mself\u001b[39m,\n\u001b[0;32m   (...)\u001b[0m\n\u001b[1;32m   4815\u001b[0m     errors: \u001b[38;5;28mstr\u001b[39m \u001b[38;5;241m=\u001b[39m \u001b[38;5;124m\"\u001b[39m\u001b[38;5;124mraise\u001b[39m\u001b[38;5;124m\"\u001b[39m,\n\u001b[1;32m   4816\u001b[0m ):\n\u001b[1;32m   4817\u001b[0m     \u001b[38;5;124;03m\"\"\"\u001b[39;00m\n\u001b[1;32m   4818\u001b[0m \u001b[38;5;124;03m    Drop specified labels from rows or columns.\u001b[39;00m\n\u001b[1;32m   4819\u001b[0m \n\u001b[0;32m   (...)\u001b[0m\n\u001b[1;32m   4952\u001b[0m \u001b[38;5;124;03m            weight  1.0     0.8\u001b[39;00m\n\u001b[1;32m   4953\u001b[0m \u001b[38;5;124;03m    \"\"\"\u001b[39;00m\n\u001b[0;32m-> 4954\u001b[0m     \u001b[38;5;28;01mreturn\u001b[39;00m \u001b[38;5;28;43msuper\u001b[39;49m\u001b[43m(\u001b[49m\u001b[43m)\u001b[49m\u001b[38;5;241;43m.\u001b[39;49m\u001b[43mdrop\u001b[49m\u001b[43m(\u001b[49m\n\u001b[1;32m   4955\u001b[0m \u001b[43m        \u001b[49m\u001b[43mlabels\u001b[49m\u001b[38;5;241;43m=\u001b[39;49m\u001b[43mlabels\u001b[49m\u001b[43m,\u001b[49m\n\u001b[1;32m   4956\u001b[0m \u001b[43m        \u001b[49m\u001b[43maxis\u001b[49m\u001b[38;5;241;43m=\u001b[39;49m\u001b[43maxis\u001b[49m\u001b[43m,\u001b[49m\n\u001b[1;32m   4957\u001b[0m \u001b[43m        \u001b[49m\u001b[43mindex\u001b[49m\u001b[38;5;241;43m=\u001b[39;49m\u001b[43mindex\u001b[49m\u001b[43m,\u001b[49m\n\u001b[1;32m   4958\u001b[0m \u001b[43m        \u001b[49m\u001b[43mcolumns\u001b[49m\u001b[38;5;241;43m=\u001b[39;49m\u001b[43mcolumns\u001b[49m\u001b[43m,\u001b[49m\n\u001b[1;32m   4959\u001b[0m \u001b[43m        \u001b[49m\u001b[43mlevel\u001b[49m\u001b[38;5;241;43m=\u001b[39;49m\u001b[43mlevel\u001b[49m\u001b[43m,\u001b[49m\n\u001b[1;32m   4960\u001b[0m \u001b[43m        \u001b[49m\u001b[43minplace\u001b[49m\u001b[38;5;241;43m=\u001b[39;49m\u001b[43minplace\u001b[49m\u001b[43m,\u001b[49m\n\u001b[1;32m   4961\u001b[0m \u001b[43m        \u001b[49m\u001b[43merrors\u001b[49m\u001b[38;5;241;43m=\u001b[39;49m\u001b[43merrors\u001b[49m\u001b[43m,\u001b[49m\n\u001b[1;32m   4962\u001b[0m \u001b[43m    \u001b[49m\u001b[43m)\u001b[49m\n",
      "File \u001b[0;32m~/opt/anaconda3/lib/python3.9/site-packages/pandas/core/generic.py:4267\u001b[0m, in \u001b[0;36mNDFrame.drop\u001b[0;34m(self, labels, axis, index, columns, level, inplace, errors)\u001b[0m\n\u001b[1;32m   4265\u001b[0m \u001b[38;5;28;01mfor\u001b[39;00m axis, labels \u001b[38;5;129;01min\u001b[39;00m axes\u001b[38;5;241m.\u001b[39mitems():\n\u001b[1;32m   4266\u001b[0m     \u001b[38;5;28;01mif\u001b[39;00m labels \u001b[38;5;129;01mis\u001b[39;00m \u001b[38;5;129;01mnot\u001b[39;00m \u001b[38;5;28;01mNone\u001b[39;00m:\n\u001b[0;32m-> 4267\u001b[0m         obj \u001b[38;5;241m=\u001b[39m \u001b[43mobj\u001b[49m\u001b[38;5;241;43m.\u001b[39;49m\u001b[43m_drop_axis\u001b[49m\u001b[43m(\u001b[49m\u001b[43mlabels\u001b[49m\u001b[43m,\u001b[49m\u001b[43m \u001b[49m\u001b[43maxis\u001b[49m\u001b[43m,\u001b[49m\u001b[43m \u001b[49m\u001b[43mlevel\u001b[49m\u001b[38;5;241;43m=\u001b[39;49m\u001b[43mlevel\u001b[49m\u001b[43m,\u001b[49m\u001b[43m \u001b[49m\u001b[43merrors\u001b[49m\u001b[38;5;241;43m=\u001b[39;49m\u001b[43merrors\u001b[49m\u001b[43m)\u001b[49m\n\u001b[1;32m   4269\u001b[0m \u001b[38;5;28;01mif\u001b[39;00m inplace:\n\u001b[1;32m   4270\u001b[0m     \u001b[38;5;28mself\u001b[39m\u001b[38;5;241m.\u001b[39m_update_inplace(obj)\n",
      "File \u001b[0;32m~/opt/anaconda3/lib/python3.9/site-packages/pandas/core/generic.py:4311\u001b[0m, in \u001b[0;36mNDFrame._drop_axis\u001b[0;34m(self, labels, axis, level, errors, consolidate, only_slice)\u001b[0m\n\u001b[1;32m   4309\u001b[0m         new_axis \u001b[38;5;241m=\u001b[39m axis\u001b[38;5;241m.\u001b[39mdrop(labels, level\u001b[38;5;241m=\u001b[39mlevel, errors\u001b[38;5;241m=\u001b[39merrors)\n\u001b[1;32m   4310\u001b[0m     \u001b[38;5;28;01melse\u001b[39;00m:\n\u001b[0;32m-> 4311\u001b[0m         new_axis \u001b[38;5;241m=\u001b[39m \u001b[43maxis\u001b[49m\u001b[38;5;241;43m.\u001b[39;49m\u001b[43mdrop\u001b[49m\u001b[43m(\u001b[49m\u001b[43mlabels\u001b[49m\u001b[43m,\u001b[49m\u001b[43m \u001b[49m\u001b[43merrors\u001b[49m\u001b[38;5;241;43m=\u001b[39;49m\u001b[43merrors\u001b[49m\u001b[43m)\u001b[49m\n\u001b[1;32m   4312\u001b[0m     indexer \u001b[38;5;241m=\u001b[39m axis\u001b[38;5;241m.\u001b[39mget_indexer(new_axis)\n\u001b[1;32m   4314\u001b[0m \u001b[38;5;66;03m# Case for non-unique axis\u001b[39;00m\n\u001b[1;32m   4315\u001b[0m \u001b[38;5;28;01melse\u001b[39;00m:\n",
      "File \u001b[0;32m~/opt/anaconda3/lib/python3.9/site-packages/pandas/core/indexes/base.py:6644\u001b[0m, in \u001b[0;36mIndex.drop\u001b[0;34m(self, labels, errors)\u001b[0m\n\u001b[1;32m   6642\u001b[0m \u001b[38;5;28;01mif\u001b[39;00m mask\u001b[38;5;241m.\u001b[39many():\n\u001b[1;32m   6643\u001b[0m     \u001b[38;5;28;01mif\u001b[39;00m errors \u001b[38;5;241m!=\u001b[39m \u001b[38;5;124m\"\u001b[39m\u001b[38;5;124mignore\u001b[39m\u001b[38;5;124m\"\u001b[39m:\n\u001b[0;32m-> 6644\u001b[0m         \u001b[38;5;28;01mraise\u001b[39;00m \u001b[38;5;167;01mKeyError\u001b[39;00m(\u001b[38;5;124mf\u001b[39m\u001b[38;5;124m\"\u001b[39m\u001b[38;5;132;01m{\u001b[39;00m\u001b[38;5;28mlist\u001b[39m(labels[mask])\u001b[38;5;132;01m}\u001b[39;00m\u001b[38;5;124m not found in axis\u001b[39m\u001b[38;5;124m\"\u001b[39m)\n\u001b[1;32m   6645\u001b[0m     indexer \u001b[38;5;241m=\u001b[39m indexer[\u001b[38;5;241m~\u001b[39mmask]\n\u001b[1;32m   6646\u001b[0m \u001b[38;5;28;01mreturn\u001b[39;00m \u001b[38;5;28mself\u001b[39m\u001b[38;5;241m.\u001b[39mdelete(indexer)\n",
      "\u001b[0;31mKeyError\u001b[0m: \"['Class', 'Building Class', 'Prior Block', 'Prior Lot', 'Prior Qual', 'Updated', 'Additional Lots', 'search_address', 'location', 'point', 'altitude'] not found in axis\""
     ]
    }
   ],
   "source": [
    "## drop unneccesary columns\n",
    "drop_cols = ['Class', 'Building Class', 'Prior Block', 'Prior Lot', 'Prior Qual', 'Updated',\n",
    "       'Additional Lots', 'search_address', 'location', 'point', 'altitude']\n",
    "data = data.drop(drop_cols, axis = 1)"
   ]
  },
  {
   "cell_type": "code",
   "execution_count": 81,
   "id": "cc6ead2a",
   "metadata": {},
   "outputs": [],
   "source": [
    "## Change rent control column to binary\n",
    "data.loc[data['rent_control'] != 'YES', 'rent_control'] = 'NO'"
   ]
  },
  {
   "cell_type": "code",
   "execution_count": 80,
   "id": "4d44aa22",
   "metadata": {},
   "outputs": [],
   "source": [
    "## Make Company = Owner when Company is blank\n",
    "data.loc[data['company'].isna(), 'company'] = data['llc_owner']"
   ]
  },
  {
   "cell_type": "code",
   "execution_count": 82,
   "id": "b733a71e",
   "metadata": {},
   "outputs": [],
   "source": [
    "## Replace NAs with 'None'- required for geojson conversion\n",
    "data = data.fillna(np.nan).replace([np.nan], [None])"
   ]
  },
  {
   "cell_type": "code",
   "execution_count": 83,
   "id": "f9db9362",
   "metadata": {},
   "outputs": [
    {
     "data": {
      "text/plain": [
       "rent_control\n",
       "NO     11766\n",
       "YES     4563\n",
       "Name: units2, dtype: object"
      ]
     },
     "execution_count": 83,
     "metadata": {},
     "output_type": "execute_result"
    }
   ],
   "source": [
    "## 28% of units are rent controlled\n",
    "## this may be a slight undercount as I think the data is missing some condo units from RC buildings\n",
    "data.groupby('rent_control')['units2'].sum() "
   ]
  },
  {
   "cell_type": "code",
   "execution_count": 84,
   "id": "c381a840",
   "metadata": {},
   "outputs": [
    {
     "data": {
      "text/plain": [
       "rent_control\n",
       "NO     1207\n",
       "YES    1566\n",
       "dtype: int64"
      ]
     },
     "execution_count": 84,
     "metadata": {},
     "output_type": "execute_result"
    }
   ],
   "source": [
    "## 56% of buildings are rent controlled\n",
    "data.groupby('rent_control').size()"
   ]
  },
  {
   "cell_type": "code",
   "execution_count": 85,
   "id": "c009e86d",
   "metadata": {},
   "outputs": [],
   "source": [
    "## split data into condos and non-condos\n",
    "condos = data[data['qual'].str.startswith('C') == True]\n",
    "apts = data[data['qual'].str.startswith('C') != True]"
   ]
  },
  {
   "cell_type": "code",
   "execution_count": 86,
   "id": "ff50f96b",
   "metadata": {},
   "outputs": [
    {
     "data": {
      "text/plain": [
       "['block',\n",
       " 'lot',\n",
       " 'qual',\n",
       " 'property_location',\n",
       " 'building_name',\n",
       " 'llc_owner',\n",
       " 'llc_or_private_individual',\n",
       " 'total_units',\n",
       " 'company',\n",
       " 'owners_mailing_address',\n",
       " 'city_state_zip',\n",
       " 'sq_ft',\n",
       " 'yr_built',\n",
       " 'rent_control',\n",
       " 'building_desc',\n",
       " 'units2',\n",
       " 'sale_date',\n",
       " 'clean_address',\n",
       " 'rent_control_year']"
      ]
     },
     "execution_count": 86,
     "metadata": {},
     "output_type": "execute_result"
    }
   ],
   "source": [
    "## define properties for geojson\n",
    "properties = list(data.columns)\n",
    "properties.remove('latitude')\n",
    "properties.remove('longitude')\n",
    "properties"
   ]
  },
  {
   "cell_type": "code",
   "execution_count": 87,
   "id": "7a0f64d0",
   "metadata": {},
   "outputs": [],
   "source": [
    "## convert data to geojson\n",
    "condos_geojson = to_geojson(df=condos, lat='latitude', lon='longitude',\n",
    "                 properties=properties)\n",
    "\n",
    "apts_geojson = to_geojson(df=apts, lat='latitude', lon='longitude',\n",
    "                 properties=properties)"
   ]
  },
  {
   "cell_type": "code",
   "execution_count": 88,
   "id": "0b9f7219",
   "metadata": {},
   "outputs": [],
   "source": [
    "## save geojson files in data folder\n",
    "write_geojson(condos_geojson, filename='./data/condos.geojson', indent=4)\n",
    "write_geojson(apts_geojson, filename='./data/apts.geojson', indent=4)"
   ]
  }
 ],
 "metadata": {
  "kernelspec": {
   "display_name": "Python 3 (ipykernel)",
   "language": "python",
   "name": "python3"
  },
  "language_info": {
   "codemirror_mode": {
    "name": "ipython",
    "version": 3
   },
   "file_extension": ".py",
   "mimetype": "text/x-python",
   "name": "python",
   "nbconvert_exporter": "python",
   "pygments_lexer": "ipython3",
   "version": "3.9.12"
  }
 },
 "nbformat": 4,
 "nbformat_minor": 5
}
