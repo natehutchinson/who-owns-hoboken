{
 "cells": [
  {
   "cell_type": "markdown",
   "id": "c0c509ab",
   "metadata": {},
   "source": [
    "# Geocoding raw address data for the Who Owns Hoboken? app"
   ]
  },
  {
   "cell_type": "markdown",
   "id": "7bacce9a",
   "metadata": {},
   "source": [
    "This script utilizes the Nominatim API and geopy to append latitude and longitude to the raw data compiled for the Who Owns Hoboken? app."
   ]
  },
  {
   "cell_type": "code",
   "execution_count": 1,
   "id": "a143043f",
   "metadata": {},
   "outputs": [],
   "source": [
    "## Import libraries\n",
    "import pandas as pd\n",
    "import numpy as np\n",
    "from geopy import Nominatim\n",
    "from geopy.extra.rate_limiter import RateLimiter\n",
    "from pandas_geojson import to_geojson\n",
    "from pandas_geojson import write_geojson\n",
    "pd.options.mode.chained_assignment = None"
   ]
  },
  {
   "cell_type": "code",
   "execution_count": 2,
   "id": "539e3b85",
   "metadata": {},
   "outputs": [
    {
     "data": {
      "text/html": [
       "<div>\n",
       "<style scoped>\n",
       "    .dataframe tbody tr th:only-of-type {\n",
       "        vertical-align: middle;\n",
       "    }\n",
       "\n",
       "    .dataframe tbody tr th {\n",
       "        vertical-align: top;\n",
       "    }\n",
       "\n",
       "    .dataframe thead th {\n",
       "        text-align: right;\n",
       "    }\n",
       "</style>\n",
       "<table border=\"1\" class=\"dataframe\">\n",
       "  <thead>\n",
       "    <tr style=\"text-align: right;\">\n",
       "      <th></th>\n",
       "      <th>Block</th>\n",
       "      <th>Lot</th>\n",
       "      <th>Qual</th>\n",
       "      <th>Class</th>\n",
       "      <th>Property Location</th>\n",
       "      <th>Building name</th>\n",
       "      <th>LLC/Owner</th>\n",
       "      <th>LLC or private individual</th>\n",
       "      <th>Total Units</th>\n",
       "      <th>Company</th>\n",
       "      <th>...</th>\n",
       "      <th>Building Class</th>\n",
       "      <th>Prior Block</th>\n",
       "      <th>Prior Lot</th>\n",
       "      <th>Prior Qual</th>\n",
       "      <th>Updated</th>\n",
       "      <th>Additional Lots</th>\n",
       "      <th>Rent Control</th>\n",
       "      <th>Building Desc</th>\n",
       "      <th>units2</th>\n",
       "      <th>Sale Date</th>\n",
       "    </tr>\n",
       "  </thead>\n",
       "  <tbody>\n",
       "    <tr>\n",
       "      <th>0</th>\n",
       "      <td>75.0</td>\n",
       "      <td>1.0</td>\n",
       "      <td>C004D</td>\n",
       "      <td>2</td>\n",
       "      <td>601 MONROE ST</td>\n",
       "      <td>NaN</td>\n",
       "      <td>OCONNOR, JAMES P JR</td>\n",
       "      <td>Individual</td>\n",
       "      <td>2.0</td>\n",
       "      <td>James O'Connor</td>\n",
       "      <td>...</td>\n",
       "      <td>NaN</td>\n",
       "      <td>NaN</td>\n",
       "      <td>NaN</td>\n",
       "      <td>NaN</td>\n",
       "      <td>NaN</td>\n",
       "      <td>NaN</td>\n",
       "      <td>YES</td>\n",
       "      <td>2BED</td>\n",
       "      <td>1.0</td>\n",
       "      <td>0000-00-00</td>\n",
       "    </tr>\n",
       "    <tr>\n",
       "      <th>1</th>\n",
       "      <td>219.0</td>\n",
       "      <td>8.0</td>\n",
       "      <td>C0002</td>\n",
       "      <td>2</td>\n",
       "      <td>815 WASHINGTON ST</td>\n",
       "      <td>NaN</td>\n",
       "      <td>OCONNOR, JAMES &amp; BERNADETTE</td>\n",
       "      <td>Individual</td>\n",
       "      <td>2.0</td>\n",
       "      <td>James O'Connor</td>\n",
       "      <td>...</td>\n",
       "      <td>NaN</td>\n",
       "      <td>NaN</td>\n",
       "      <td>NaN</td>\n",
       "      <td>NaN</td>\n",
       "      <td>NaN</td>\n",
       "      <td>NaN</td>\n",
       "      <td>YES</td>\n",
       "      <td>2BR</td>\n",
       "      <td>1.0</td>\n",
       "      <td>8/8/11</td>\n",
       "    </tr>\n",
       "    <tr>\n",
       "      <th>2</th>\n",
       "      <td>207.0</td>\n",
       "      <td>25.0</td>\n",
       "      <td>NaN</td>\n",
       "      <td>2</td>\n",
       "      <td>808 WASHINGTON ST</td>\n",
       "      <td>NaN</td>\n",
       "      <td>808 WASHINGTON ST LLC</td>\n",
       "      <td>LLC</td>\n",
       "      <td>4.0</td>\n",
       "      <td>NaN</td>\n",
       "      <td>...</td>\n",
       "      <td>49.0</td>\n",
       "      <td>NaN</td>\n",
       "      <td>NaN</td>\n",
       "      <td>NaN</td>\n",
       "      <td>12/27/19</td>\n",
       "      <td>NaN</td>\n",
       "      <td>YES</td>\n",
       "      <td>4B-4U-H-BA</td>\n",
       "      <td>4.0</td>\n",
       "      <td>8/16/13</td>\n",
       "    </tr>\n",
       "    <tr>\n",
       "      <th>3</th>\n",
       "      <td>180.0</td>\n",
       "      <td>6.0</td>\n",
       "      <td>NaN</td>\n",
       "      <td>2</td>\n",
       "      <td>511 PARK AVE</td>\n",
       "      <td>NaN</td>\n",
       "      <td>RAD, MOHAMMAD TRUSTEE OF JOODI</td>\n",
       "      <td>Trust</td>\n",
       "      <td>2.0</td>\n",
       "      <td>Rad</td>\n",
       "      <td>...</td>\n",
       "      <td>49.0</td>\n",
       "      <td>NaN</td>\n",
       "      <td>NaN</td>\n",
       "      <td>NaN</td>\n",
       "      <td>12/27/19</td>\n",
       "      <td>NaN</td>\n",
       "      <td>YES</td>\n",
       "      <td>3B-2U-FX-H</td>\n",
       "      <td>2.0</td>\n",
       "      <td>5/12/14</td>\n",
       "    </tr>\n",
       "    <tr>\n",
       "      <th>4</th>\n",
       "      <td>88.0</td>\n",
       "      <td>1.0</td>\n",
       "      <td>NaN</td>\n",
       "      <td>4C</td>\n",
       "      <td>800 MADISON/801 MONROE ST</td>\n",
       "      <td>Avalon</td>\n",
       "      <td>DSF IV HOBOKEN OWNER LLC % AVALON B</td>\n",
       "      <td>LLC</td>\n",
       "      <td>220.0</td>\n",
       "      <td>AvalonBay</td>\n",
       "      <td>...</td>\n",
       "      <td>NaN</td>\n",
       "      <td>NaN</td>\n",
       "      <td>NaN</td>\n",
       "      <td>NaN</td>\n",
       "      <td>NaN</td>\n",
       "      <td>NaN</td>\n",
       "      <td>YES</td>\n",
       "      <td>6B-220U-4C-G</td>\n",
       "      <td>220.0</td>\n",
       "      <td>NaN</td>\n",
       "    </tr>\n",
       "  </tbody>\n",
       "</table>\n",
       "<p>5 rows × 24 columns</p>\n",
       "</div>"
      ],
      "text/plain": [
       "   Block   Lot   Qual Class          Property Location Building name  \\\n",
       "0   75.0   1.0  C004D     2              601 MONROE ST           NaN   \n",
       "1  219.0   8.0  C0002     2          815 WASHINGTON ST           NaN   \n",
       "2  207.0  25.0    NaN     2          808 WASHINGTON ST           NaN   \n",
       "3  180.0   6.0    NaN     2               511 PARK AVE           NaN   \n",
       "4   88.0   1.0    NaN    4C  800 MADISON/801 MONROE ST        Avalon   \n",
       "\n",
       "                             LLC/Owner LLC or private individual  Total Units  \\\n",
       "0                  OCONNOR, JAMES P JR                Individual          2.0   \n",
       "1          OCONNOR, JAMES & BERNADETTE                Individual          2.0   \n",
       "2                808 WASHINGTON ST LLC                       LLC          4.0   \n",
       "3       RAD, MOHAMMAD TRUSTEE OF JOODI                     Trust          2.0   \n",
       "4  DSF IV HOBOKEN OWNER LLC % AVALON B                       LLC        220.0   \n",
       "\n",
       "          Company  ... Building Class Prior Block  Prior Lot  Prior Qual  \\\n",
       "0  James O'Connor  ...            NaN         NaN        NaN         NaN   \n",
       "1  James O'Connor  ...            NaN         NaN        NaN         NaN   \n",
       "2             NaN  ...           49.0         NaN        NaN         NaN   \n",
       "3             Rad  ...           49.0         NaN        NaN         NaN   \n",
       "4       AvalonBay  ...            NaN         NaN        NaN         NaN   \n",
       "\n",
       "    Updated  Additional Lots Rent Control Building Desc units2   Sale Date  \n",
       "0       NaN              NaN          YES          2BED    1.0  0000-00-00  \n",
       "1       NaN              NaN          YES           2BR    1.0      8/8/11  \n",
       "2  12/27/19              NaN          YES    4B-4U-H-BA    4.0     8/16/13  \n",
       "3  12/27/19              NaN          YES    3B-2U-FX-H    2.0     5/12/14  \n",
       "4       NaN              NaN          YES  6B-220U-4C-G  220.0         NaN  \n",
       "\n",
       "[5 rows x 24 columns]"
      ]
     },
     "execution_count": 2,
     "metadata": {},
     "output_type": "execute_result"
    }
   ],
   "source": [
    "## Read data\n",
    "data = pd.read_csv('./raw_data.csv')\n",
    "data.head()"
   ]
  },
  {
   "cell_type": "code",
   "execution_count": 3,
   "id": "26d84df8",
   "metadata": {},
   "outputs": [],
   "source": [
    "data.columns = data.columns.map(lambda x : x.replace('.', '').replace(' ', '_').replace('/','_').replace(\"'\", '')) \n",
    "data.columns = data.columns.str.lower()"
   ]
  },
  {
   "cell_type": "code",
   "execution_count": 4,
   "id": "bf6bbfb9",
   "metadata": {},
   "outputs": [
    {
     "name": "stdout",
     "output_type": "stream",
     "text": [
      "<class 'pandas.core.frame.DataFrame'>\n",
      "RangeIndex: 2773 entries, 0 to 2772\n",
      "Data columns (total 24 columns):\n",
      " #   Column                     Non-Null Count  Dtype  \n",
      "---  ------                     --------------  -----  \n",
      " 0   block                      2773 non-null   float64\n",
      " 1   lot                        2773 non-null   float64\n",
      " 2   qual                       1067 non-null   object \n",
      " 3   class                      2773 non-null   object \n",
      " 4   property_location          2773 non-null   object \n",
      " 5   building_name              60 non-null     object \n",
      " 6   llc_owner                  2773 non-null   object \n",
      " 7   llc_or_private_individual  2773 non-null   object \n",
      " 8   total_units                2772 non-null   float64\n",
      " 9   company                    1012 non-null   object \n",
      " 10  owners_mailing_address     2773 non-null   object \n",
      " 11  city_state_zip             2773 non-null   object \n",
      " 12  sq_ft                      2411 non-null   float64\n",
      " 13  yr_built                   2052 non-null   float64\n",
      " 14  building_class             869 non-null    float64\n",
      " 15  prior_block                145 non-null    float64\n",
      " 16  prior_lot                  145 non-null    object \n",
      " 17  prior_qual                 1 non-null      object \n",
      " 18  updated                    874 non-null    object \n",
      " 19  additional_lots            8 non-null      object \n",
      " 20  rent_control               1720 non-null   object \n",
      " 21  building_desc              2640 non-null   object \n",
      " 22  units2                     2764 non-null   float64\n",
      " 23  sale_date                  2451 non-null   object \n",
      "dtypes: float64(8), object(16)\n",
      "memory usage: 520.1+ KB\n"
     ]
    }
   ],
   "source": [
    "data.info()"
   ]
  },
  {
   "cell_type": "code",
   "execution_count": 5,
   "id": "d8eb8feb",
   "metadata": {},
   "outputs": [],
   "source": [
    "## Make address all uppercase\n",
    "data['property_location'] = data['property_location'].str.upper()"
   ]
  },
  {
   "cell_type": "code",
   "execution_count": 6,
   "id": "4174b717",
   "metadata": {},
   "outputs": [],
   "source": [
    "## Clean up street names so geocoder can recognize them \n",
    "data['property_location'] = data['property_location'].str.replace('FIRST', '1ST')\n",
    "data['property_location'] = data['property_location'].str.replace('SECOND', '2ND')\n",
    "data['property_location'] = data['property_location'].str.replace('THIRD', '3RD')\n",
    "data['property_location'] = data['property_location'].str.replace('FOURTH ', '4TH ')\n",
    "data['property_location'] = data['property_location'].str.replace('FIFTH', '5TH')\n",
    "data['property_location'] = data['property_location'].str.replace('SIXTH', '6TH')\n",
    "data['property_location'] = data['property_location'].str.replace('SEVENTH', '7TH')\n",
    "data['property_location'] = data['property_location'].str.replace('EIGHTH', '8TH')\n",
    "data['property_location'] = data['property_location'].str.replace('EIGHT ', '8TH ')\n",
    "data['property_location'] = data['property_location'].str.replace('NINTH', '9TH')\n",
    "data['property_location'] = data['property_location'].str.replace('TENTH', '10TH')\n",
    "data['property_location'] = data['property_location'].str.replace('ELEVENTH', '11TH')\n",
    "data['property_location'] = data['property_location'].str.replace('TWELFTH', '12TH')\n",
    "data['property_location'] = data['property_location'].str.replace('THIRTEENTH', '13TH')\n",
    "data['property_location'] = data['property_location'].str.replace('FOURTEENTH', '14TH')\n",
    "data['property_location'] = data['property_location'].str.replace('FIFTEENTH', '15TH')\n",
    "data['property_location'] = data['property_location'].str.replace('WASH ', 'WASHINGTON')\n",
    "data['property_location'] = data['property_location'].str.replace('WASHINGTONST ', 'WASHINGTON ST')\n",
    "data['property_location'] = data['property_location'].str.replace('0BSERVER ', 'OBSERVER')\n",
    "data['property_location'] = data['property_location'].str.replace('OBSERVERHWY ', 'OBSERVER HWY')\n",
    "data['property_location'] = data['property_location'].str.replace('OBSERVERHWY', 'OBSERVER HWY')\n",
    "data['property_location'] = data['property_location'].str.replace('THS T ', 'TH ST')\n",
    "data['property_location'] = data['property_location'].str.replace('ST REAR', 'ST')\n",
    "data['property_location'] = data['property_location'].str.replace('BLOOM ', 'BLOOMFIELD')\n",
    "data['property_location'] = data['property_location'].str.replace('THS T', 'TH ST')\n",
    "data['property_location'] = data['property_location'].str.replace(' AT', ' ST')\n",
    "data['property_location'] = data['property_location'].str.replace('WASHINGTONST', 'WASHINGTON ST')\n",
    "data['property_location'] = data['property_location'].str.replace('ST230', 'ST')"
   ]
  },
  {
   "cell_type": "code",
   "execution_count": 7,
   "id": "3092efe2",
   "metadata": {},
   "outputs": [],
   "source": [
    "## Clean up addresses with notes in them\n",
    "sep = '('\n",
    "data['property_location'] = data['property_location'].str.split(sep).str[0]"
   ]
  },
  {
   "cell_type": "code",
   "execution_count": 8,
   "id": "db23af79",
   "metadata": {},
   "outputs": [],
   "source": [
    "## Clean up addresses with two locations combined\n",
    "sep = '/'\n",
    "data['clean_address'] = data['property_location'].str.split(sep).str[0]"
   ]
  },
  {
   "cell_type": "code",
   "execution_count": 9,
   "id": "7aa1d6b3",
   "metadata": {},
   "outputs": [],
   "source": [
    "## Clean up addresses named with intersection\n",
    "sep = '&'\n",
    "data['clean_address'] = data['clean_address'].str.split(sep).str[0]"
   ]
  },
  {
   "cell_type": "code",
   "execution_count": 10,
   "id": "ab9efed8",
   "metadata": {},
   "outputs": [
    {
     "data": {
      "text/html": [
       "<div>\n",
       "<style scoped>\n",
       "    .dataframe tbody tr th:only-of-type {\n",
       "        vertical-align: middle;\n",
       "    }\n",
       "\n",
       "    .dataframe tbody tr th {\n",
       "        vertical-align: top;\n",
       "    }\n",
       "\n",
       "    .dataframe thead th {\n",
       "        text-align: right;\n",
       "    }\n",
       "</style>\n",
       "<table border=\"1\" class=\"dataframe\">\n",
       "  <thead>\n",
       "    <tr style=\"text-align: right;\">\n",
       "      <th></th>\n",
       "      <th>block</th>\n",
       "      <th>lot</th>\n",
       "      <th>qual</th>\n",
       "      <th>class</th>\n",
       "      <th>property_location</th>\n",
       "      <th>building_name</th>\n",
       "      <th>llc_owner</th>\n",
       "      <th>llc_or_private_individual</th>\n",
       "      <th>total_units</th>\n",
       "      <th>company</th>\n",
       "      <th>...</th>\n",
       "      <th>prior_lot</th>\n",
       "      <th>prior_qual</th>\n",
       "      <th>updated</th>\n",
       "      <th>additional_lots</th>\n",
       "      <th>rent_control</th>\n",
       "      <th>building_desc</th>\n",
       "      <th>units2</th>\n",
       "      <th>sale_date</th>\n",
       "      <th>clean_address</th>\n",
       "      <th>search_address</th>\n",
       "    </tr>\n",
       "  </thead>\n",
       "  <tbody>\n",
       "    <tr>\n",
       "      <th>0</th>\n",
       "      <td>75.0</td>\n",
       "      <td>1.0</td>\n",
       "      <td>C004D</td>\n",
       "      <td>2</td>\n",
       "      <td>601 MONROE ST</td>\n",
       "      <td>NaN</td>\n",
       "      <td>OCONNOR, JAMES P JR</td>\n",
       "      <td>Individual</td>\n",
       "      <td>2.0</td>\n",
       "      <td>James O'Connor</td>\n",
       "      <td>...</td>\n",
       "      <td>NaN</td>\n",
       "      <td>NaN</td>\n",
       "      <td>NaN</td>\n",
       "      <td>NaN</td>\n",
       "      <td>YES</td>\n",
       "      <td>2BED</td>\n",
       "      <td>1.0</td>\n",
       "      <td>0000-00-00</td>\n",
       "      <td>601 MONROE ST</td>\n",
       "      <td>601 MONROE ST, Hoboken, NJ, 07030</td>\n",
       "    </tr>\n",
       "    <tr>\n",
       "      <th>1</th>\n",
       "      <td>219.0</td>\n",
       "      <td>8.0</td>\n",
       "      <td>C0002</td>\n",
       "      <td>2</td>\n",
       "      <td>815 WASHINGTON ST</td>\n",
       "      <td>NaN</td>\n",
       "      <td>OCONNOR, JAMES &amp; BERNADETTE</td>\n",
       "      <td>Individual</td>\n",
       "      <td>2.0</td>\n",
       "      <td>James O'Connor</td>\n",
       "      <td>...</td>\n",
       "      <td>NaN</td>\n",
       "      <td>NaN</td>\n",
       "      <td>NaN</td>\n",
       "      <td>NaN</td>\n",
       "      <td>YES</td>\n",
       "      <td>2BR</td>\n",
       "      <td>1.0</td>\n",
       "      <td>8/8/11</td>\n",
       "      <td>815 WASHINGTON ST</td>\n",
       "      <td>815 WASHINGTON ST, Hoboken, NJ, 07030</td>\n",
       "    </tr>\n",
       "    <tr>\n",
       "      <th>2</th>\n",
       "      <td>207.0</td>\n",
       "      <td>25.0</td>\n",
       "      <td>NaN</td>\n",
       "      <td>2</td>\n",
       "      <td>808 WASHINGTON ST</td>\n",
       "      <td>NaN</td>\n",
       "      <td>808 WASHINGTON ST LLC</td>\n",
       "      <td>LLC</td>\n",
       "      <td>4.0</td>\n",
       "      <td>NaN</td>\n",
       "      <td>...</td>\n",
       "      <td>NaN</td>\n",
       "      <td>NaN</td>\n",
       "      <td>12/27/19</td>\n",
       "      <td>NaN</td>\n",
       "      <td>YES</td>\n",
       "      <td>4B-4U-H-BA</td>\n",
       "      <td>4.0</td>\n",
       "      <td>8/16/13</td>\n",
       "      <td>808 WASHINGTON ST</td>\n",
       "      <td>808 WASHINGTON ST, Hoboken, NJ, 07030</td>\n",
       "    </tr>\n",
       "    <tr>\n",
       "      <th>3</th>\n",
       "      <td>180.0</td>\n",
       "      <td>6.0</td>\n",
       "      <td>NaN</td>\n",
       "      <td>2</td>\n",
       "      <td>511 PARK AVE</td>\n",
       "      <td>NaN</td>\n",
       "      <td>RAD, MOHAMMAD TRUSTEE OF JOODI</td>\n",
       "      <td>Trust</td>\n",
       "      <td>2.0</td>\n",
       "      <td>Rad</td>\n",
       "      <td>...</td>\n",
       "      <td>NaN</td>\n",
       "      <td>NaN</td>\n",
       "      <td>12/27/19</td>\n",
       "      <td>NaN</td>\n",
       "      <td>YES</td>\n",
       "      <td>3B-2U-FX-H</td>\n",
       "      <td>2.0</td>\n",
       "      <td>5/12/14</td>\n",
       "      <td>511 PARK AVE</td>\n",
       "      <td>511 PARK AVE, Hoboken, NJ, 07030</td>\n",
       "    </tr>\n",
       "    <tr>\n",
       "      <th>4</th>\n",
       "      <td>88.0</td>\n",
       "      <td>1.0</td>\n",
       "      <td>NaN</td>\n",
       "      <td>4C</td>\n",
       "      <td>800 MADISON/801 MONROE ST</td>\n",
       "      <td>Avalon</td>\n",
       "      <td>DSF IV HOBOKEN OWNER LLC % AVALON B</td>\n",
       "      <td>LLC</td>\n",
       "      <td>220.0</td>\n",
       "      <td>AvalonBay</td>\n",
       "      <td>...</td>\n",
       "      <td>NaN</td>\n",
       "      <td>NaN</td>\n",
       "      <td>NaN</td>\n",
       "      <td>NaN</td>\n",
       "      <td>YES</td>\n",
       "      <td>6B-220U-4C-G</td>\n",
       "      <td>220.0</td>\n",
       "      <td>NaN</td>\n",
       "      <td>800 MADISON</td>\n",
       "      <td>800 MADISON, Hoboken, NJ, 07030</td>\n",
       "    </tr>\n",
       "  </tbody>\n",
       "</table>\n",
       "<p>5 rows × 26 columns</p>\n",
       "</div>"
      ],
      "text/plain": [
       "   block   lot   qual class          property_location building_name  \\\n",
       "0   75.0   1.0  C004D     2              601 MONROE ST           NaN   \n",
       "1  219.0   8.0  C0002     2          815 WASHINGTON ST           NaN   \n",
       "2  207.0  25.0    NaN     2          808 WASHINGTON ST           NaN   \n",
       "3  180.0   6.0    NaN     2               511 PARK AVE           NaN   \n",
       "4   88.0   1.0    NaN    4C  800 MADISON/801 MONROE ST        Avalon   \n",
       "\n",
       "                             llc_owner llc_or_private_individual  total_units  \\\n",
       "0                  OCONNOR, JAMES P JR                Individual          2.0   \n",
       "1          OCONNOR, JAMES & BERNADETTE                Individual          2.0   \n",
       "2                808 WASHINGTON ST LLC                       LLC          4.0   \n",
       "3       RAD, MOHAMMAD TRUSTEE OF JOODI                     Trust          2.0   \n",
       "4  DSF IV HOBOKEN OWNER LLC % AVALON B                       LLC        220.0   \n",
       "\n",
       "          company  ... prior_lot prior_qual   updated  additional_lots  \\\n",
       "0  James O'Connor  ...       NaN        NaN       NaN              NaN   \n",
       "1  James O'Connor  ...       NaN        NaN       NaN              NaN   \n",
       "2             NaN  ...       NaN        NaN  12/27/19              NaN   \n",
       "3             Rad  ...       NaN        NaN  12/27/19              NaN   \n",
       "4       AvalonBay  ...       NaN        NaN       NaN              NaN   \n",
       "\n",
       "   rent_control  building_desc units2   sale_date      clean_address  \\\n",
       "0           YES           2BED    1.0  0000-00-00      601 MONROE ST   \n",
       "1           YES            2BR    1.0      8/8/11  815 WASHINGTON ST   \n",
       "2           YES     4B-4U-H-BA    4.0     8/16/13  808 WASHINGTON ST   \n",
       "3           YES     3B-2U-FX-H    2.0     5/12/14       511 PARK AVE   \n",
       "4           YES   6B-220U-4C-G  220.0         NaN        800 MADISON   \n",
       "\n",
       "                          search_address  \n",
       "0      601 MONROE ST, Hoboken, NJ, 07030  \n",
       "1  815 WASHINGTON ST, Hoboken, NJ, 07030  \n",
       "2  808 WASHINGTON ST, Hoboken, NJ, 07030  \n",
       "3       511 PARK AVE, Hoboken, NJ, 07030  \n",
       "4        800 MADISON, Hoboken, NJ, 07030  \n",
       "\n",
       "[5 rows x 26 columns]"
      ]
     },
     "execution_count": 10,
     "metadata": {},
     "output_type": "execute_result"
    }
   ],
   "source": [
    "## Create column to be used for address lookup in Nominatim API\n",
    "data['search_address'] = data['clean_address'] + ', Hoboken, NJ, 07030'\n",
    "data.head()"
   ]
  },
  {
   "cell_type": "code",
   "execution_count": 11,
   "id": "4e60d006",
   "metadata": {},
   "outputs": [],
   "source": [
    "## Define Nominatim API instance\n",
    "locator = Nominatim(user_agent='who_owns_hoboken')"
   ]
  },
  {
   "cell_type": "code",
   "execution_count": 12,
   "id": "cd70a9f7",
   "metadata": {},
   "outputs": [],
   "source": [
    "## Call API for each row of dataset\n",
    "## Store output from API call in 'location column'\n",
    "geocode = RateLimiter(locator.geocode, min_delay_seconds=1)\n",
    "data['location'] = data['search_address'].apply(geocode)"
   ]
  },
  {
   "cell_type": "code",
   "execution_count": 13,
   "id": "2678f7c0",
   "metadata": {},
   "outputs": [],
   "source": [
    "## Extract lat/long information from API output\n",
    "data['point'] = data['location'].apply(lambda loc: tuple(loc.point) if loc else None)"
   ]
  },
  {
   "cell_type": "code",
   "execution_count": 14,
   "id": "d860fca7",
   "metadata": {},
   "outputs": [],
   "source": [
    "## Turn lat/long information into new columns in the dataset\n",
    "data[['latitude', 'longitude', 'altitude']] = pd.DataFrame(data['point'].tolist(), index=data.index)"
   ]
  },
  {
   "cell_type": "code",
   "execution_count": 15,
   "id": "733476c9",
   "metadata": {},
   "outputs": [],
   "source": [
    "## save results of geocoding\n",
    "data.to_csv('./data/hoboken_landlords.csv')"
   ]
  },
  {
   "cell_type": "code",
   "execution_count": 16,
   "id": "424fe7a7",
   "metadata": {},
   "outputs": [],
   "source": [
    "## run this if you want to start from geocoded data\n",
    "#with open('./data/hoboken_landlords.csv') as x:\n",
    "    #ncols = len(x.readline().split(','))\n",
    "\n",
    "#data = pd.read_csv('./data/hoboken_landlords.csv', usecols=range(1,ncols))"
   ]
  },
  {
   "cell_type": "code",
   "execution_count": 17,
   "id": "3ab274eb",
   "metadata": {},
   "outputs": [
    {
     "data": {
      "text/plain": [
       "latitude\n",
       "40.750362    59\n",
       "40.749529    40\n",
       "40.752481    34\n",
       "40.746050    31\n",
       "40.752710    25\n",
       "             ..\n",
       "40.742083     1\n",
       "40.742080     1\n",
       "40.742043     1\n",
       "40.742034     1\n",
       "40.754934     1\n",
       "Length: 2064, dtype: int64"
      ]
     },
     "execution_count": 17,
     "metadata": {},
     "output_type": "execute_result"
    }
   ],
   "source": [
    "data.groupby('latitude').size().sort_values(ascending = False)"
   ]
  },
  {
   "cell_type": "code",
   "execution_count": 18,
   "id": "7f2f1e87",
   "metadata": {},
   "outputs": [
    {
     "data": {
      "text/plain": [
       "array(['2 CONSTITUTION COURT', '1 INDEPENDENCE COURT',\n",
       "       '1200-1222 HUDSON ST', '1201-1333 HUDSON ST',\n",
       "       '1201-21R WASHINGTON ST', '224-232 RIVER 235 HUDSON',\n",
       "       '401-03 WASHINGTON ST', '300-08 RIVER ST', '11 ELYSIAN PLACE'],\n",
       "      dtype=object)"
      ]
     },
     "execution_count": 18,
     "metadata": {},
     "output_type": "execute_result"
    }
   ],
   "source": [
    "## Manually geocode these addresses\n",
    "data[data['latitude'].isnull()]['property_location'].unique()"
   ]
  },
  {
   "cell_type": "code",
   "execution_count": 19,
   "id": "5319c76c",
   "metadata": {},
   "outputs": [],
   "source": [
    "# 2 Constitution Court\n",
    "data.loc[data['property_location'] == '2 CONSTITUTION COURT', 'latitude'] = 40.75235433173578\n",
    "data.loc[data['property_location'] == '2 CONSTITUTION COURT', 'longitude'] = -74.02416413263948\n",
    "# 1 Independence Court\n",
    "data.loc[data['property_location'] == '1 INDEPENDENCE COURT', 'latitude'] = 40.7517113622344\n",
    "data.loc[data['property_location'] == '1 INDEPENDENCE COURT', 'longitude'] = -74.0243229423285\n",
    "# '1200-1222 HUDSON ST'\n",
    "data.loc[data['property_location'] == '1200-1222 HUDSON ST', 'latitude'] = 40.751547793135835\n",
    "data.loc[data['property_location'] == '1200-1222 HUDSON ST', 'longitude'] = -74.02566382893585\n",
    "# '1201-1333 HUDSON ST'\n",
    "data.loc[data['property_location'] == '1201-1333 HUDSON ST', 'latitude'] = 40.751327435663356\n",
    "data.loc[data['property_location'] == '1201-1333 HUDSON ST', 'longitude'] = -74.02529360594718\n",
    "# '1201-21R WASHINGTON ST'\n",
    "data.loc[data['property_location'] == '1201-21R WASHINGTON ST', 'latitude'] = 40.75167892656019\n",
    "data.loc[data['property_location'] == '1201-21R WASHINGTON ST', 'longitude'] = -74.02620949828147\n",
    "# '224-232 RIVER 235 HUDSON'\n",
    "data.loc[data['property_location'] == '224-232 RIVER 235 HUDSON', 'latitude'] = 40.7394286430441\n",
    "data.loc[data['property_location'] == '224-232 RIVER 235 HUDSON', 'longitude'] = -74.0286408719967\n",
    "# '401-03 WASHINGTON ST'\n",
    "data.loc[data['property_location'] == '401-03 WASHINGTON ST', 'latitude'] = 40.74134653174973\n",
    "data.loc[data['property_location'] == '401-03 WASHINGTON ST', 'longitude'] = -74.02950291302936\n",
    "# '300-08 RIVER ST'\n",
    "data.loc[data['property_location'] == '300-08 RIVER ST', 'latitude'] = 40.74002433251577\n",
    "data.loc[data['property_location'] == '300-08 RIVER ST', 'longitude'] = -74.02844601055078\n",
    "# '11 ELYSIAN PLACE'\n",
    "data.loc[data['property_location'] == '11 ELYSIAN PLACE', 'latitude'] = 40.747902005692055\n",
    "data.loc[data['property_location'] == '11 ELYSIAN PLACE', 'longitude'] = -74.0248531253788"
   ]
  },
  {
   "cell_type": "code",
   "execution_count": 20,
   "id": "e6336c27",
   "metadata": {},
   "outputs": [],
   "source": [
    "## manually update rent control status based on user feedback\n",
    "data.loc[data['property_location'] == '800 MADISON/801 MONROE ST', 'rent_control'] = 'YES'"
   ]
  },
  {
   "cell_type": "code",
   "execution_count": 21,
   "id": "24fe39ea",
   "metadata": {},
   "outputs": [],
   "source": [
    "## add column for what year the building falls under rent control\n",
    "data.loc[data['yr_built'] == 0, 'yr_built'] = np.nan\n",
    "data['yr_built'] = data['yr_built'].astype('Int64')\n",
    "data['rent_control_year'] = data['yr_built'] + 30"
   ]
  },
  {
   "cell_type": "code",
   "execution_count": 22,
   "id": "907655a1",
   "metadata": {},
   "outputs": [],
   "source": [
    "## convert units columns to integers\n",
    "data['total_units'] = data['total_units'].astype('Int64')\n",
    "data['units2'] = data['units2'].astype('Int64')"
   ]
  },
  {
   "cell_type": "code",
   "execution_count": 24,
   "id": "40fb4d5e",
   "metadata": {},
   "outputs": [],
   "source": [
    "## drop unneccesary columns\n",
    "drop_cols = ['class', 'building_class', 'prior_block', 'prior_lot', 'prior_qual', 'updated',\n",
    "       'additional_lots', 'search_address', 'location', 'point', 'altitude']\n",
    "data = data.drop(drop_cols, axis = 1)"
   ]
  },
  {
   "cell_type": "code",
   "execution_count": 25,
   "id": "cc6ead2a",
   "metadata": {},
   "outputs": [],
   "source": [
    "## Change rent control column to binary\n",
    "data.loc[data['rent_control'] != 'YES', 'rent_control'] = 'Unconfirmed'"
   ]
  },
  {
   "cell_type": "code",
   "execution_count": 26,
   "id": "56e83908",
   "metadata": {},
   "outputs": [],
   "source": [
    "## Make Company = Owner when Company is blank\n",
    "data.loc[data['company'].isna(), 'company'] = data['llc_owner']"
   ]
  },
  {
   "cell_type": "code",
   "execution_count": 27,
   "id": "672a1a85",
   "metadata": {},
   "outputs": [],
   "source": [
    "## Replace NAs with 'None'- required for geojson conversion\n",
    "data = data.fillna(np.nan).replace([np.nan], [None])"
   ]
  },
  {
   "cell_type": "code",
   "execution_count": 28,
   "id": "f9db9362",
   "metadata": {},
   "outputs": [
    {
     "data": {
      "text/plain": [
       "rent_control\n",
       "Unconfirmed    11766\n",
       "YES             4563\n",
       "Name: units2, dtype: object"
      ]
     },
     "execution_count": 28,
     "metadata": {},
     "output_type": "execute_result"
    }
   ],
   "source": [
    "## 28% of units are rent controlled\n",
    "## this may be a slight undercount as I think the data is missing some condo units from RC buildings\n",
    "data.groupby('rent_control')['units2'].sum() "
   ]
  },
  {
   "cell_type": "code",
   "execution_count": 29,
   "id": "c381a840",
   "metadata": {},
   "outputs": [
    {
     "data": {
      "text/plain": [
       "rent_control\n",
       "Unconfirmed    1207\n",
       "YES            1566\n",
       "dtype: int64"
      ]
     },
     "execution_count": 29,
     "metadata": {},
     "output_type": "execute_result"
    }
   ],
   "source": [
    "## 56% of buildings are rent controlled\n",
    "data.groupby('rent_control').size()"
   ]
  },
  {
   "cell_type": "code",
   "execution_count": 30,
   "id": "c009e86d",
   "metadata": {},
   "outputs": [],
   "source": [
    "## split data into condos and non-condos\n",
    "condos = data[data['qual'].str.startswith('C') == True]\n",
    "apts = data[data['qual'].str.startswith('C') != True]"
   ]
  },
  {
   "cell_type": "code",
   "execution_count": 31,
   "id": "ec86a717",
   "metadata": {},
   "outputs": [
    {
     "data": {
      "text/plain": [
       "['block',\n",
       " 'lot',\n",
       " 'qual',\n",
       " 'property_location',\n",
       " 'building_name',\n",
       " 'llc_owner',\n",
       " 'llc_or_private_individual',\n",
       " 'total_units',\n",
       " 'company',\n",
       " 'owners_mailing_address',\n",
       " 'city_state_zip',\n",
       " 'sq_ft',\n",
       " 'yr_built',\n",
       " 'rent_control',\n",
       " 'building_desc',\n",
       " 'units2',\n",
       " 'sale_date',\n",
       " 'clean_address',\n",
       " 'rent_control_year']"
      ]
     },
     "execution_count": 31,
     "metadata": {},
     "output_type": "execute_result"
    }
   ],
   "source": [
    "## define properties for building geojsons\n",
    "properties = list(data.columns)\n",
    "properties.remove('latitude')\n",
    "properties.remove('longitude')\n",
    "properties"
   ]
  },
  {
   "cell_type": "code",
   "execution_count": 45,
   "id": "bf40cc77",
   "metadata": {},
   "outputs": [],
   "source": [
    "## define properties for landlord geojson\n",
    "landlord_cols = ['property_location', 'building_name', 'llc_owner', 'llc_or_private_individual','company', 'yr_built',\n",
    "                'rent_control', 'units2']"
   ]
  },
  {
   "cell_type": "code",
   "execution_count": 46,
   "id": "7a0f64d0",
   "metadata": {},
   "outputs": [],
   "source": [
    "## convert data to geojson\n",
    "condos_geojson = to_geojson(df=condos, lat='latitude', lon='longitude',\n",
    "                 properties=properties)\n",
    "\n",
    "apts_geojson = to_geojson(df=apts, lat='latitude', lon='longitude',\n",
    "                 properties=properties)\n",
    "\n",
    "landlords_geojson = to_geojson(df=data, lat='latitude', lon='longitude',\n",
    "                 properties=landlord_cols)"
   ]
  },
  {
   "cell_type": "code",
   "execution_count": 60,
   "id": "634044d0",
   "metadata": {},
   "outputs": [],
   "source": [
    "## save geojson files in data folder\n",
    "write_geojson(condos_geojson, filename='./data/condos.geojson', indent=4)\n",
    "write_geojson(apts_geojson, filename='./data/apts.geojson', indent=4)\n",
    "write_geojson(landlord_geojson, filename='./js/data/landlords.geojson', indent=4)"
   ]
  }
 ],
 "metadata": {
  "kernelspec": {
   "display_name": "Python 3 (ipykernel)",
   "language": "python",
   "name": "python3"
  },
  "language_info": {
   "codemirror_mode": {
    "name": "ipython",
    "version": 3
   },
   "file_extension": ".py",
   "mimetype": "text/x-python",
   "name": "python",
   "nbconvert_exporter": "python",
   "pygments_lexer": "ipython3",
   "version": "3.9.12"
  }
 },
 "nbformat": 4,
 "nbformat_minor": 5
}
